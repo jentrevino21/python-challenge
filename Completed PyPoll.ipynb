{
 "cells": [
  {
   "cell_type": "code",
   "execution_count": 1,
   "metadata": {},
   "outputs": [],
   "source": [
    "import os\n",
    "import csv"
   ]
  },
  {
   "cell_type": "code",
   "execution_count": 2,
   "metadata": {},
   "outputs": [],
   "source": [
    "by_county = dict([])\n",
    "by_candidate = dict([])"
   ]
  },
  {
   "cell_type": "code",
   "execution_count": 3,
   "metadata": {},
   "outputs": [],
   "source": [
    "tot_votes = 0\n",
    "# Path to collect data from the Resources folder\n",
    "election_data = os.path.join(\"../Resources\", \"election_data.csv\")\n",
    "\n",
    "# Read in the CSV file\n",
    "with open(election_data, 'r') as csvfile:\n",
    "\n",
    "# Split the data on commas\n",
    "    csvreader = csv.reader(csvfile, delimiter=',')\n",
    "\n",
    "# Skip first row\n",
    "    header = next(csvreader)\n",
    "    \n",
    "# Loop through the data\n",
    "    for row in csvreader:\n",
    "        # voter_id row[0]\n",
    "        # county = row[1]\n",
    "        candidate = row[2]\n",
    "        tot_votes = tot_votes + 1\n",
    "        if candidate not in by_candidate:\n",
    "            by_candidate[candidate] = 0\n",
    "        by_candidate[candidate] = by_candidate[candidate] + 1"
   ]
  },
  {
   "cell_type": "code",
   "execution_count": 4,
   "metadata": {},
   "outputs": [
    {
     "name": "stdout",
     "output_type": "stream",
     "text": [
      "summary: {'Khan': 2218231, 'Correy': 704200, 'Li': 492940, \"O'Tooley\": 105630}\n",
      "-------------------\n",
      "total votes: 3521001\n",
      "-------------------\n"
     ]
    }
   ],
   "source": [
    "# Print out election data\n",
    "print(f\"summary: {by_candidate}\")\n",
    "print(\"-------------------\")\n",
    "print(f\"total votes: {tot_votes}\")\n",
    "print(\"-------------------\")"
   ]
  },
  {
   "cell_type": "code",
   "execution_count": 5,
   "metadata": {},
   "outputs": [
    {
     "name": "stdout",
     "output_type": "stream",
     "text": [
      "Khan 63.000 (2218231)\n",
      "Correy 20.000 (704200)\n",
      "Li 14.000 (492940)\n",
      "O'Tooley 3.000 (105630)\n"
     ]
    }
   ],
   "source": [
    "winner = ''\n",
    "winner_votes = 0\n",
    "for candidate in by_candidate.keys( ):\n",
    "    votes = by_candidate[candidate]\n",
    "    if votes > winner_votes:\n",
    "        winner_votes = votes\n",
    "        winner = candidate\n",
    "    pct = 100 * votes/tot_votes\n",
    "    s_pct = \"{:.3f}\".format(pct)\n",
    "    print(f\"{candidate} {s_pct} ({votes})\")"
   ]
  },
  {
   "cell_type": "code",
   "execution_count": 6,
   "metadata": {},
   "outputs": [
    {
     "name": "stdout",
     "output_type": "stream",
     "text": [
      "-------------------\n",
      "Winner: Khan\n"
     ]
    }
   ],
   "source": [
    "print(\"-------------------\")\n",
    "print(f\"Winner: {winner}\")"
   ]
  },
  {
   "cell_type": "code",
   "execution_count": null,
   "metadata": {},
   "outputs": [],
   "source": []
  }
 ],
 "metadata": {
  "kernelspec": {
   "display_name": "Python 3",
   "language": "python",
   "name": "python3"
  },
  "language_info": {
   "codemirror_mode": {
    "name": "ipython",
    "version": 3
   },
   "file_extension": ".py",
   "mimetype": "text/x-python",
   "name": "python",
   "nbconvert_exporter": "python",
   "pygments_lexer": "ipython3",
   "version": "3.7.6"
  }
 },
 "nbformat": 4,
 "nbformat_minor": 4
}
