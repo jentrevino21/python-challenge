{
 "cells": [
  {
   "cell_type": "code",
   "execution_count": 1,
   "metadata": {},
   "outputs": [],
   "source": [
    "import os\n",
    "import csv"
   ]
  },
  {
   "cell_type": "code",
   "execution_count": 2,
   "metadata": {},
   "outputs": [],
   "source": [
    "months = []\n",
    "profits = []"
   ]
  },
  {
   "cell_type": "code",
   "execution_count": 5,
   "metadata": {},
   "outputs": [],
   "source": [
    "# Path to collect data from the Resources folder\n",
    "budget_data = os.path.join(\"../Resources\", \"budget_data.csv\")\n",
    "\n",
    "# Read in the CSV file\n",
    "with open(budget_data, 'r') as csvfile:\n",
    "    \n",
    "# Split the data on commas\n",
    "    csvreader = csv.reader(csvfile, delimiter=',')\n",
    "\n",
    "# Skip first row\n",
    "    header = next(csvreader)\n",
    "    \n",
    "# Loop through the data\n",
    "    for row in csvreader:\n",
    "        \n",
    "        months.append(row[0])\n",
    "        profits.append(float(row[1]))"
   ]
  },
  {
   "cell_type": "code",
   "execution_count": 6,
   "metadata": {},
   "outputs": [
    {
     "name": "stdout",
     "output_type": "stream",
     "text": [
      "446309.0465116279\n"
     ]
    }
   ],
   "source": [
    "# Define the function and have it accept the 'budget_data' as its sole parameter\n",
    "total_months = len(months)\n",
    "total_profits = sum(profits)\n",
    "average_change = total_profits/total_months\n",
    "print(average_change)"
   ]
  },
  {
   "cell_type": "code",
   "execution_count": 9,
   "metadata": {},
   "outputs": [],
   "source": [
    "# Greatest profit max\n",
    "greatest_profit = max(profits)\n",
    "# Greatest loss min\n",
    "greatest_loss = min(profits)\n",
    "# Which index or month with greatest profit or loss \n",
    "idx_greatest_profit = profits.index(greatest_profit)\n",
    "idx_greatest_loss = profits.index(greatest_loss)"
   ]
  },
  {
   "cell_type": "code",
   "execution_count": 14,
   "metadata": {},
   "outputs": [
    {
     "name": "stdout",
     "output_type": "stream",
     "text": [
      "total months: 86\n",
      "total profits_losses: 38382578.0\n",
      "average change: 446309.0465116279\n",
      "greatest increates in profit: Feb-2012 1170593.0\n",
      "greatest decrease in loss: Sep-2013 -1196225.0\n"
     ]
    }
   ],
   "source": [
    "# Print out the Financial Analysis \n",
    "print(f\"total months: {total_months}\")\n",
    "print(f\"total profits_losses: {total_profits}\")\n",
    "print(f\"average change: {average_change}\")\n",
    "print(f\"greatest increates in profit: {months[idx_greatest_profit]} {greatest_profit}\")\n",
    "print(f\"greatest decrease in loss: {months[idx_greatest_loss]} {greatest_loss}\")"
   ]
  },
  {
   "cell_type": "code",
   "execution_count": null,
   "metadata": {},
   "outputs": [],
   "source": []
  }
 ],
 "metadata": {
  "kernelspec": {
   "display_name": "Python 3",
   "language": "python",
   "name": "python3"
  },
  "language_info": {
   "codemirror_mode": {
    "name": "ipython",
    "version": 3
   },
   "file_extension": ".py",
   "mimetype": "text/x-python",
   "name": "python",
   "nbconvert_exporter": "python",
   "pygments_lexer": "ipython3",
   "version": "3.7.6"
  }
 },
 "nbformat": 4,
 "nbformat_minor": 4
}
